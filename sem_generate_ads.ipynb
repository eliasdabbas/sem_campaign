{
 "cells": [
  {
   "cell_type": "markdown",
   "metadata": {
    "ein.tags": "worksheet-0",
    "slideshow": {
     "slide_type": "-"
    }
   },
   "source": [
    "##  Generate ads for search engine marketing campaigns\n",
    "\n",
    "Utilizing Python, this is a recipe that shows how to generate differnent ad templates for our campaigns and ad groups.\n",
    "\n",
    "This is not specific to Python and the recipe can be implemented in any other language."
   ]
  },
  {
   "cell_type": "code",
   "execution_count": 2,
   "metadata": {
    "autoscroll": false,
    "collapsed": false,
    "ein.tags": "worksheet-0",
    "slideshow": {
     "slide_type": "-"
    }
   },
   "outputs": [],
   "source": [
    "import csv # the main package simply to save the ads table to a file"
   ]
  },
  {
   "cell_type": "markdown",
   "metadata": {
    "ein.tags": "worksheet-0",
    "slideshow": {
     "slide_type": "-"
    }
   },
   "source": [
    "### Start by first getting a list of all the possible landing pages that are fit to be used in our campaigns.\n",
    "\n",
    "We should also have the title of the landing page (product name) as well. Ideally, we should have them in a list of tuples like this:"
   ]
  },
  {
   "cell_type": "code",
   "execution_count": 3,
   "metadata": {
    "autoscroll": false,
    "collapsed": false,
    "ein.tags": "worksheet-0",
    "slideshow": {
     "slide_type": "-"
    }
   },
   "outputs": [],
   "source": [
    "pages_products = [\n",
    "('http://example.com/?make=toyota&model=camry', 'toyota camry'),\n",
    "('http://example.com/?make=toyota&model=corolla','toyota corolla'),\n",
    "('http://example.com/?make=toyota&model=','toyota'),\n",
    "('http://example.com/?make=honda&model=civic','honda civic'),\n",
    "('http://example.com/?make=honda&model=','honda'),\n",
    "    ]"
   ]
  },
  {
   "cell_type": "markdown",
   "metadata": {
    "ein.tags": "worksheet-0",
    "slideshow": {
     "slide_type": "-"
    }
   },
   "source": [
    "Another crucial thing to ensure, is having the product names match exactly with the ad groups you create(d) for the keywords, because these will Eventually end up in the same campaigns together and they need to match."
   ]
  },
  {
   "cell_type": "markdown",
   "metadata": {
    "ein.tags": "worksheet-0",
    "slideshow": {
     "slide_type": "-"
    }
   },
   "source": [
    "Eventually, we want to end up with a table like this:\n",
    "\n",
    "| Campaign | Ad Group       | Headline 1                 | Headline 2               | Description                                         | Display URL | Final URL                                      |\n",
    "|----------|----------------|----------------------------|--------------------------|-----------------------------------------------------|-------------|------------------------------------------------|\n",
    "| SEM Cars | Toyota         | Toyota for Sale            | Great Prices and Options | Browse Over 100,000 cars. Book Your Free Test Drive | example.com | http://example.com/?make=toyota&model='        |\n",
    "| SEM Cars | Toyota         | Second Hand Toyota         | Great Prices and Options | Browse Over 100,000 cars. Book Your Free Test Drive | example.com | http://example.com/?make=toyota&model='        |\n",
    "| SEM Cars | Toyota Corolla | Toyota Corolla for Sale    | Great Prices and Options | Browse Over 100,000 cars. Book Your Free Test Drive | example.com | http://example.com/?make=toyota&model=corolla' |\n",
    "| SEM Cars | Toyota Corolla | Second Hand Toyota Corolla | Great Prices and Options | Browse Over 100,000 cars. Book Your Free Test Drive | example.com | http://example.com/?make=toyota&model=corolla' |\n",
    "| SEM Cars | Honda          | Honda for Sale             | Great Prices and Options | Browse Over 100,000 cars. Book Your Free Test Drive | example.com | http://example.com/?make=honda&model='         |\n",
    "| SEM Cars | Honda          | Second Hand Honda          | Great Prices and Options | Browse Over 100,000 cars. Book Your Free Test Drive | example.com | http://example.com/?make=honda&model='         |\n",
    "\n",
    "\n"
   ]
  },
  {
   "cell_type": "code",
   "execution_count": 6,
   "metadata": {
    "autoscroll": false,
    "collapsed": false,
    "ein.tags": "worksheet-0",
    "slideshow": {
     "slide_type": "-"
    }
   },
   "outputs": [
    {
     "name": "stdout",
     "output_type": "stream",
     "text": [
      "['Campaign', 'Ad Group', 'Headline 1', 'Headline 2', 'Description', 'Final URL']\n",
      "['SEM Cars', 'toyota camry', 'toyota camry for Sale', 'Great Prices and Options', 'Browse Over 100,000 Cars. Book Your Free Test Drive', 'http://example.com/?make=toyota&model=camry']\n",
      "['SEM Cars', 'toyota camry', 'Second Hand toyota camry', 'Great Prices and Options', 'Browse Over 100,000 Cars. Book Your Free Test Drive', 'http://example.com/?make=toyota&model=camry']\n",
      "['SEM Cars', 'toyota corolla', 'toyota corolla for Sale', 'Great Prices and Options', 'Browse Over 100,000 Cars. Book Your Free Test Drive', 'http://example.com/?make=toyota&model=corolla']\n",
      "['SEM Cars', 'toyota corolla', 'Second Hand toyota corolla', 'Great Prices and Options', 'Browse Over 100,000 Cars. Book Your Free Test Drive', 'http://example.com/?make=toyota&model=corolla']\n",
      "['SEM Cars', 'toyota', 'toyota for Sale', 'Great Prices and Options', 'Browse Over 100,000 Cars. Book Your Free Test Drive', 'http://example.com/?make=toyota&model=']\n",
      "['SEM Cars', 'toyota', 'Second Hand toyota', 'Great Prices and Options', 'Browse Over 100,000 Cars. Book Your Free Test Drive', 'http://example.com/?make=toyota&model=']\n",
      "['SEM Cars', 'honda civic', 'honda civic for Sale', 'Great Prices and Options', 'Browse Over 100,000 Cars. Book Your Free Test Drive', 'http://example.com/?make=honda&model=civic']\n",
      "['SEM Cars', 'honda civic', 'Second Hand honda civic', 'Great Prices and Options', 'Browse Over 100,000 Cars. Book Your Free Test Drive', 'http://example.com/?make=honda&model=civic']\n",
      "['SEM Cars', 'honda', 'honda for Sale', 'Great Prices and Options', 'Browse Over 100,000 Cars. Book Your Free Test Drive', 'http://example.com/?make=honda&model=']\n",
      "['SEM Cars', 'honda', 'Second Hand honda', 'Great Prices and Options', 'Browse Over 100,000 Cars. Book Your Free Test Drive', 'http://example.com/?make=honda&model=']\n"
     ]
    }
   ],
   "source": [
    "ads_list = [['Campaign', 'Ad Group', 'Headline 1', 'Headline 2', 'Description', 'Final URL']]\n",
    "\n",
    "for page, adgroup in pages_products:\n",
    "    row = [\n",
    "        'SEM Cars',\n",
    "        adgroup,\n",
    "        f'{adgroup} for Sale',\n",
    "        'Great Prices and Options',\n",
    "        'Browse Over 100,000 Cars. Book Your Free Test Drive',\n",
    "        page\n",
    "    ]\n",
    "    ads_list.append(row)\n",
    "\n",
    "    row = [\n",
    "        'SEM Cars',\n",
    "        adgroup,\n",
    "        f'Second Hand {adgroup}',\n",
    "        'Great Prices and Options',\n",
    "        'Browse Over 100,000 Cars. Book Your Free Test Drive',\n",
    "        page\n",
    "    ]\n",
    "    ads_list.append(row)\n",
    "\n",
    "print(*ads_list, sep='\\n')"
   ]
  },
  {
   "cell_type": "markdown",
   "metadata": {
    "ein.tags": "worksheet-0",
    "slideshow": {
     "slide_type": "-"
    }
   },
   "source": [
    "And we are done!\n",
    "\n",
    "Some things to keep in mind:\n",
    "\n",
    "- The ad text needs to be carefully written and reflect the business's strategy, branding, etc.\n",
    "- An issue you will definitely face is the character limit restriction. The solution will depend on the average length of your product names. Accordingly you can put the names in the correct field (headline or Description), or you might find a special solution for long and short names.\n",
    "- I'm using Python's f-strings to dynamically insert the proper word. You can use older % formatting, or string formatting, and it's also very easy to implement in other languages. It's simple text concatenation.\n",
    "- There are several different places where you can insert the product name, and this should also be thought of, and you can be creative. \n",
    "\n",
    "Now we save the ads in a csv file:\n"
   ]
  },
  {
   "cell_type": "code",
   "execution_count": 7,
   "metadata": {
    "autoscroll": false,
    "collapsed": false,
    "ein.tags": "worksheet-0",
    "slideshow": {
     "slide_type": "-"
    }
   },
   "outputs": [],
   "source": [
    "with open('ads.csv', 'wt', newline='') as f:\n",
    "    writer =  csv.writer(f)\n",
    "    for line in ads_list:\n",
    "        writer.writerow(line)"
   ]
  }
 ],
 "metadata": {
  "kernelspec": {
   "display_name": "Python 3",
   "name": "python3"
  },
  "name": "sem_generate_ads.ipynb"
 },
 "nbformat": 4,
 "nbformat_minor": 2
}
