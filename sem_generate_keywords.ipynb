{
 "cells": [
  {
   "cell_type": "markdown",
   "metadata": {
    "ein.tags": "worksheet-0",
    "slideshow": {
     "slide_type": "-"
    }
   },
   "source": [
    "## Generate keywords combinations for search engine marketing campaigns\n",
    "\n",
    "Utilizing Python, this is a recipe that shows how to generate different combinations of keywords and how to group them into their respective campaigns and ad groups.\n",
    "This is not specific to Python and the recipe can be implemented in any other language. "
   ]
  },
  {
   "cell_type": "code",
   "execution_count": 19,
   "metadata": {
    "autoscroll": false,
    "collapsed": false,
    "ein.tags": "worksheet-0",
    "slideshow": {
     "slide_type": "-"
    }
   },
   "outputs": [],
   "source": [
    "import csv # the main package simply to save the keywords table to a file"
   ]
  },
  {
   "cell_type": "markdown",
   "metadata": {
    "ein.tags": "worksheet-0",
    "slideshow": {
     "slide_type": "-"
    }
   },
   "source": [
    "We first start by obtaining the two main sets of words that we will be using:\n",
    "1. Products: a list of all the products / services that we are trying to sell\n",
    "2. Keywords: a list of all the keywords that, used together with any of the keywords, indicate an intention to buy any of our products.\n",
    "\n",
    "For this example we will be generating keywords for an imaginary business that sells used cars online.\n",
    "For simplicity, let's assume that the following are available as products and keywords:\n",
    "\n",
    "    1. Products: 'honda', 'honda accord', 'honda civic', 'toyota', 'toyota camry'\n",
    "    2. Keywords: 'buy', 'price', 'second hand\n",
    "\n",
    "    The end result we are looking for, would be something like this:\n",
    "\n",
    "    |Campaign   | Ad Group     | Keyword                  | Criterion Type  |\n",
    "    |-----------|--------------|--------------------------|-----------------|\n",
    "    |SEM Cars   | Toyota       | buy toyota               | Exact           |\n",
    "    |SEM Cars   | Toyota       | buy toyota               | Phrase          |\n",
    "    |SEM Cars   | Honda Accord | buy honda accord         | Exact           |\n",
    "    |SEM Cars   | Honda Accord | honda accord second hand | Exact           |\n",
    "    |etc...\n",
    "\n",
    "You can easily imagine how large the combinations would become when we have, let's say 20 car makes, with ten models each, together with 25-30 different keywords the list would be in the tens of thousands.\n",
    "So we need a systematic way of knowing how to generate them, as well as knowing that we can make structural changes across all combinations whenever we need (and we will have to during the course of running the campaigns).\n",
    "\n",
    "Let's start with a simple loop that combines the keywords with the products, without worrying about campaigns and ad groups for now.\n"
   ]
  },
  {
   "cell_type": "code",
   "execution_count": 10,
   "metadata": {
    "autoscroll": false,
    "collapsed": false,
    "ein.tags": "worksheet-0",
    "slideshow": {
     "slide_type": "-"
    }
   },
   "outputs": [
    {
     "name": "stdout",
     "output_type": "stream",
     "text": [
      "['honda', 'buy']\n",
      "['buy', 'honda']\n",
      "['honda', 'price']\n",
      "['price', 'honda']\n",
      "['honda', 'second hand']\n",
      "['second hand', 'honda']\n",
      "['honda accord', 'buy']\n",
      "['buy', 'honda accord']\n",
      "['honda accord', 'price']\n",
      "['price', 'honda accord']\n"
     ]
    }
   ],
   "source": [
    "products = ['honda', 'honda accord', 'honda civic', 'toyota', 'toyota camry']\n",
    "keywords =  ['buy', 'price', 'second hand'] # this is the most important list which needs careful attention / research\n",
    "\n",
    "keyword_list = [] # eventually, each line in this list will correspond to a keyword\n",
    "for car in products:\n",
    "    for word in keywords:\n",
    "        keyword_list.append([car, word])\n",
    "        keyword_list.append([word, car])\n",
    "print(*keyword_list[:10], sep='\\n')"
   ]
  },
  {
   "cell_type": "markdown",
   "metadata": {
    "ein.tags": "worksheet-0",
    "slideshow": {
     "slide_type": "-"
    }
   },
   "source": [
    "Now we can add the campaign name as well as the ad groups:"
   ]
  },
  {
   "cell_type": "code",
   "execution_count": 13,
   "metadata": {
    "autoscroll": false,
    "collapsed": false,
    "ein.tags": "worksheet-0",
    "slideshow": {
     "slide_type": "-"
    }
   },
   "outputs": [
    {
     "name": "stdout",
     "output_type": "stream",
     "text": [
      "['Campaign', 'Ad Group', 'Keyword', 'Criterion Type']\n",
      "['SEM Cars', 'honda', 'honda buy']\n",
      "['SEM Cars', 'honda', 'buy honda']\n",
      "['SEM Cars', 'honda', 'honda price']\n",
      "['SEM Cars', 'honda', 'price honda']\n",
      "['SEM Cars', 'honda', 'honda second hand']\n",
      "['SEM Cars', 'honda', 'second hand honda']\n",
      "['SEM Cars', 'honda accord', 'honda accord buy']\n",
      "['SEM Cars', 'honda accord', 'buy honda accord']\n",
      "['SEM Cars', 'honda accord', 'honda accord price']\n"
     ]
    }
   ],
   "source": [
    "keyword_list = [['Campaign', 'Ad Group', 'Keyword', 'Criterion Type']]  # file header\n",
    "\n",
    "for car in products:\n",
    "    for word in keywords:\n",
    "        keyword_list.append(['SEM Cars', car, ' '.join([car, word])])\n",
    "        keyword_list.append(['SEM Cars', car, ' '.join([word, car])])\n",
    "print(*keyword_list[:10], sep='\\n')\n"
   ]
  },
  {
   "cell_type": "markdown",
   "metadata": {
    "ein.tags": "worksheet-0",
    "slideshow": {
     "slide_type": "-"
    }
   },
   "source": [
    "That's pretty much the skeleton of a potentially very large campaign!\n",
    "One more line can be added to make sure we utilize the keyword match types that we want.\n",
    "Let's say we want to use phrase match and exact match, then all we have to add is one line:"
   ]
  },
  {
   "cell_type": "code",
   "execution_count": 17,
   "metadata": {
    "autoscroll": false,
    "collapsed": false,
    "ein.tags": "worksheet-0",
    "slideshow": {
     "slide_type": "-"
    }
   },
   "outputs": [
    {
     "name": "stdout",
     "output_type": "stream",
     "text": [
      "['Campaign', 'Ad Group', 'Keyword', 'Criterion Type']\n",
      "['SEM Cars', 'Honda', 'honda buy', 'Exact']\n",
      "['SEM Cars', 'Honda', 'buy honda', 'Exact']\n",
      "['SEM Cars', 'Honda', 'honda buy', 'Phrase']\n",
      "['SEM Cars', 'Honda', 'buy honda', 'Phrase']\n",
      "['SEM Cars', 'Honda', 'honda price', 'Exact']\n",
      "['SEM Cars', 'Honda', 'price honda', 'Exact']\n",
      "['SEM Cars', 'Honda', 'honda price', 'Phrase']\n",
      "['SEM Cars', 'Honda', 'price honda', 'Phrase']\n",
      "['SEM Cars', 'Honda', 'honda second hand', 'Exact']\n"
     ]
    }
   ],
   "source": [
    "keyword_list = [['Campaign', 'Ad Group', 'Keyword', 'Criterion Type']]\n",
    "\n",
    "for car in products:\n",
    "    for word in keywords:\n",
    "        for matchtype in ['Exact', 'Phrase']:\n",
    "            keyword_list.append(['SEM Cars', car.title(), ' '.join([car, word]), matchtype])\n",
    "            keyword_list.append(['SEM Cars', car.title(), ' '.join([word, car]), matchtype])\n",
    "print(*keyword_list[:10], sep='\\n')\n"
   ]
  },
  {
   "cell_type": "markdown",
   "metadata": {
    "ein.tags": "worksheet-0",
    "slideshow": {
     "slide_type": "-"
    }
   },
   "source": [
    "That's it!\n",
    "We now simply save the list in a csv file, and we are literally done. "
   ]
  },
  {
   "cell_type": "code",
   "execution_count": 23,
   "metadata": {
    "autoscroll": false,
    "collapsed": false,
    "ein.tags": "worksheet-0",
    "slideshow": {
     "slide_type": "-"
    }
   },
   "outputs": [],
   "source": [
    "with open('keywords.csv', 'wt', newline='') as f:\n",
    "    writer = csv.writer(f)\n",
    "    for line in keyword_list:\n",
    "        writer.writerow(line)\n"
   ]
  },
  {
   "cell_type": "markdown",
   "metadata": {
    "ein.tags": "worksheet-0",
    "slideshow": {
     "slide_type": "-"
    }
   },
   "source": [
    "### Other options\n",
    "\n",
    "In reality you probably would need to customize things in different ways, you might:\n",
    "\n",
    "- Modified broad match: while adding the keywords you will have to concatenate '+'\n",
    "- Negative keywords: either as part of the same loops mentioned above, or in a separate loop, go over the different ad groups, and loop over the negative keywords, adding them line by line to each ad group in the same way (they could be aded at the campaign level as well).\n",
    "- Multiple locations: in some cases, you might have a different set of makes / models in each of the locations in which you operate (or maybe the inventory is changing every week or so). In this case, it might be better to represent the initial set of products and keywords, together with locations in a table / list format, something like this:\n",
    "\n",
    "\n",
    "| location | make   | model  |\n",
    "|----------+--------+--------|\n",
    "| Tokyo    | honda  | civic  |\n",
    "| Tokyo    | honda  | accord |\n",
    "| Tokyo    | toyota | camry  |\n",
    "| Budapest | honda  | accord |\n",
    "| Budapest | nissan | sunny  |\n",
    "\n",
    "Looping over the lines of this table, you can name use the location field to name the campaign, and you will have ensured that only the correct makes / models get added to the correct location.\n",
    "By the same logic, you can add more columns if you have other differences between locations. You might have leading available in some locations, but not in others, so you can make sure that leasing keywords are only added to those locations, and so on. "
   ]
  }
 ],
 "metadata": {
  "kernelspec": {
   "display_name": "Python 3",
   "name": "python3"
  },
  "name": "sem_generate_keywords.ipynb"
 },
 "nbformat": 4,
 "nbformat_minor": 2
}
